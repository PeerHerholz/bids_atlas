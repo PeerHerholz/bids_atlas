{
  "cells": [
    {
      "cell_type": "code",
      "execution_count": null,
      "metadata": {
        "collapsed": false
      },
      "outputs": [],
      "source": [
        "%matplotlib inline"
      ]
    },
    {
      "cell_type": "markdown",
      "metadata": {},
      "source": [
        "\n# Fetching BIDS-Atlas compliant atlases\nThis example demonstrates how to use :mod:`bids_atlas.datasets` to fetch\natlases that confirm to BIDS-Atlas.\n"
      ]
    },
    {
      "cell_type": "markdown",
      "metadata": {},
      "source": [
        "Much of the functionality of the ``bids_atlas`` toolbox relies on downloading\ncommonly used publicly available atlases. Each atlas has its own ``function``, with certain\narguments being shared across all of them.\nThis specifically refers to the ``target space`` and ``resolution`` the given ``atlas`` should\nbe obtained in. \n\nHere we show how download a few atlases, using the respective ``functions`` and ``arguments``.\n\nFirst of all, we are going to import ``bids_atlas`` ``dataset`` ``module``, as this will give us\naccess to all respective functions.\n\n"
      ]
    },
    {
      "cell_type": "code",
      "execution_count": null,
      "metadata": {
        "collapsed": false
      },
      "outputs": [],
      "source": [
        "from bids_atlas import datasets"
      ]
    },
    {
      "cell_type": "markdown",
      "metadata": {},
      "source": [
        "Lets start with the ``AAL`` ``atlas``. In order to obtain it in a ``BIDS-Atlas`` compliant manner, we only need to\nuse the respective function, called ``get_AAL``. If we run it without specifying any arguments, it will be provided\nin the current directory and default specifications, ie 2mm resolution. The function will return a dictionary with \nthe paths to atlas image, .tsv and .json files.\n\n"
      ]
    },
    {
      "cell_type": "code",
      "execution_count": null,
      "metadata": {
        "collapsed": false
      },
      "outputs": [],
      "source": [
        "AAL_atlas = datasets.get_AAL()"
      ]
    },
    {
      "cell_type": "markdown",
      "metadata": {},
      "source": [
        "Now the respective files can be accessed via their ``keys``. The path to the ``atlas image`` can be obtained via\n\n"
      ]
    },
    {
      "cell_type": "code",
      "execution_count": null,
      "metadata": {
        "collapsed": false
      },
      "outputs": [],
      "source": [
        "AAL_atlas['AtlasImage']"
      ]
    },
    {
      "cell_type": "markdown",
      "metadata": {},
      "source": [
        "and thus easily be loaded, plotted, or utilized within an analysis.\n\n"
      ]
    },
    {
      "cell_type": "code",
      "execution_count": null,
      "metadata": {
        "collapsed": false
      },
      "outputs": [],
      "source": [
        "from nilearn.plotting import plot_roi\n\nplot_roi(AAL_atlas['AtlasImage'], draw_cross=False, cmap='Set2')"
      ]
    },
    {
      "cell_type": "markdown",
      "metadata": {},
      "source": [
        "The .tsv and .json files contain important information and metadata concerning the atlas. The former entails a DataFrame\nindicating the indices of the atlas and details thereof. \n\n"
      ]
    },
    {
      "cell_type": "code",
      "execution_count": null,
      "metadata": {
        "collapsed": false
      },
      "outputs": [],
      "source": [
        "import pandas as pd\n\npd.read_csv(AAL_atlas['AtlasTSV'])"
      ]
    },
    {
      "cell_type": "markdown",
      "metadata": {},
      "source": [
        "The latter comprises the atlas' metadata following ``BIDS`` specifications.\n\n"
      ]
    },
    {
      "cell_type": "code",
      "execution_count": null,
      "metadata": {
        "collapsed": false
      },
      "outputs": [],
      "source": [
        "import json\n\nwith open(AAL_atlas['AtlasJson'], 'r') as AAL_atlas_json:\n    AAL_atlas_json_load = json.load(AAL_atlas_json)\n    AAL_atlas_json_load = json.dumps(AAL_atlas_json_load, indent=4)\n    print(AAL_atlas_json_load)"
      ]
    }
  ],
  "metadata": {
    "kernelspec": {
      "display_name": "Python 3",
      "language": "python",
      "name": "python3"
    },
    "language_info": {
      "codemirror_mode": {
        "name": "ipython",
        "version": 3
      },
      "file_extension": ".py",
      "mimetype": "text/x-python",
      "name": "python",
      "nbconvert_exporter": "python",
      "pygments_lexer": "ipython3",
      "version": "3.9.16"
    }
  },
  "nbformat": 4,
  "nbformat_minor": 0
}